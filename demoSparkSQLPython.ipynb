{
 "cells": [
  {
   "cell_type": "markdown",
   "metadata": {},
   "source": [
    "# Getting started with Spark: demo with Spark SQL in Python\n"
   ]
  },
  {
   "cell_type": "markdown",
   "metadata": {},
   "source": [
    "This demo is based on [Spark SQL Guide - Getting started](https://spark.apache.org/docs/latest/sql-getting-started.html).\n",
    "\n",
    "For this demo we used the city of Vienna trees dataset (\"Baumkataster\") made available by [Open Data Österreich](https://www.data.gv.at) and downloadable from [here](https://www.data.gv.at/katalog/dataset/c91a4635-8b7d-43fe-9b27-d95dec8392a7) ."
   ]
  },
  {
   "cell_type": "code",
   "execution_count": 25,
   "metadata": {},
   "outputs": [],
   "source": [
    "from pyspark.sql import SparkSession"
   ]
  },
  {
   "cell_type": "code",
   "execution_count": 26,
   "metadata": {},
   "outputs": [],
   "source": [
    "spark = SparkSession \\\n",
    "    .builder \\\n",
    "    .appName(\"Python Spark SQL basic example\") \\\n",
    "    .getOrCreate()"
   ]
  },
  {
   "cell_type": "code",
   "execution_count": 27,
   "metadata": {},
   "outputs": [],
   "source": [
    "df = spark.read \\\n",
    "          .load(\"/data/FME_BaumdatenBearbeitet_OGD_20190205.csv\",\n",
    "           format=\"csv\", sep=\";\",  header=\"true\", encoding=\"iso-8859-1\")"
   ]
  },
  {
   "cell_type": "markdown",
   "metadata": {},
   "source": [
    "**Note:** if you want to upload your own CSV file `myFile.csv` you need to first upload it to HDFS like this:\n",
    "<code>\n",
    "    hdfs dfs -put myFile.csv myFile.csv\n",
    "</code>\n",
    "and then you can just use `.load(\"myFile.csv\", ...` in the Spark load command."
   ]
  },
  {
   "cell_type": "markdown",
   "metadata": {},
   "source": [
    "Show first three lines of Spark dataframe"
   ]
  },
  {
   "cell_type": "code",
   "execution_count": 28,
   "metadata": {},
   "outputs": [
    {
     "name": "stdout",
     "output_type": "stream",
     "text": [
      "+-------+------+------------+----------+-----+-----------+-----+-----------------+-----------+---+-----+------+----------------+----------------+\n",
      "|Flaeche|BaumNr|     Gattung|       Art|Sorte|NameDeutsch|Hoehe|Schirmdurchmesser|Stammumfang|Typ| XPos|  YPos|             lon|             lat|\n",
      "+-------+------+------------+----------+-----+-----------+-----+-----------------+-----------+---+-----+------+----------------+----------------+\n",
      "|      0|     0|   ZumTesten|         0|    0|   20190205|    0|                0|          0|  0|70000|350000|14,2757549011314|48,2844031941042|\n",
      "|    870|  021a|     Quercus|       sp.|    -|      Eiche|    6|                3|         31|  L|72431|354949|14,3093549528352|48,3286271802142|\n",
      "|    572|   127|Liriodendron|tulipifera|    -| Tulpenbaum|    5|                2|         21|  L|71171|353742|14,2921648325343|48,3179178510249|\n",
      "+-------+------+------------+----------+-----+-----------+-----+-----------------+-----------+---+-----+------+----------------+----------------+\n",
      "only showing top 3 rows\n",
      "\n"
     ]
    }
   ],
   "source": [
    "df.show(3)"
   ]
  },
  {
   "cell_type": "markdown",
   "metadata": {},
   "source": [
    "For pretty-printing you can use `toPandas()`"
   ]
  },
  {
   "cell_type": "code",
   "execution_count": 31,
   "metadata": {},
   "outputs": [
    {
     "data": {
      "text/html": [
       "<div>\n",
       "<style scoped>\n",
       "    .dataframe tbody tr th:only-of-type {\n",
       "        vertical-align: middle;\n",
       "    }\n",
       "\n",
       "    .dataframe tbody tr th {\n",
       "        vertical-align: top;\n",
       "    }\n",
       "\n",
       "    .dataframe thead th {\n",
       "        text-align: right;\n",
       "    }\n",
       "</style>\n",
       "<table border=\"1\" class=\"dataframe\">\n",
       "  <thead>\n",
       "    <tr style=\"text-align: right;\">\n",
       "      <th></th>\n",
       "      <th>Flaeche</th>\n",
       "      <th>BaumNr</th>\n",
       "      <th>Gattung</th>\n",
       "      <th>Art</th>\n",
       "      <th>Sorte</th>\n",
       "      <th>NameDeutsch</th>\n",
       "      <th>Hoehe</th>\n",
       "      <th>Schirmdurchmesser</th>\n",
       "      <th>Stammumfang</th>\n",
       "      <th>Typ</th>\n",
       "      <th>XPos</th>\n",
       "      <th>YPos</th>\n",
       "      <th>lon</th>\n",
       "      <th>lat</th>\n",
       "    </tr>\n",
       "  </thead>\n",
       "  <tbody>\n",
       "    <tr>\n",
       "      <th>0</th>\n",
       "      <td>0</td>\n",
       "      <td>0</td>\n",
       "      <td>ZumTesten</td>\n",
       "      <td>0</td>\n",
       "      <td>0</td>\n",
       "      <td>20190205</td>\n",
       "      <td>0</td>\n",
       "      <td>0</td>\n",
       "      <td>0</td>\n",
       "      <td>0</td>\n",
       "      <td>70000</td>\n",
       "      <td>350000</td>\n",
       "      <td>14,2757549011314</td>\n",
       "      <td>48,2844031941042</td>\n",
       "    </tr>\n",
       "    <tr>\n",
       "      <th>1</th>\n",
       "      <td>870</td>\n",
       "      <td>021a</td>\n",
       "      <td>Quercus</td>\n",
       "      <td>sp.</td>\n",
       "      <td>-</td>\n",
       "      <td>Eiche</td>\n",
       "      <td>6</td>\n",
       "      <td>3</td>\n",
       "      <td>31</td>\n",
       "      <td>L</td>\n",
       "      <td>72431</td>\n",
       "      <td>354949</td>\n",
       "      <td>14,3093549528352</td>\n",
       "      <td>48,3286271802142</td>\n",
       "    </tr>\n",
       "    <tr>\n",
       "      <th>2</th>\n",
       "      <td>572</td>\n",
       "      <td>127</td>\n",
       "      <td>Liriodendron</td>\n",
       "      <td>tulipifera</td>\n",
       "      <td>-</td>\n",
       "      <td>Tulpenbaum</td>\n",
       "      <td>5</td>\n",
       "      <td>2</td>\n",
       "      <td>21</td>\n",
       "      <td>L</td>\n",
       "      <td>71171</td>\n",
       "      <td>353742</td>\n",
       "      <td>14,2921648325343</td>\n",
       "      <td>48,3179178510249</td>\n",
       "    </tr>\n",
       "  </tbody>\n",
       "</table>\n",
       "</div>"
      ],
      "text/plain": [
       "  Flaeche BaumNr       Gattung         Art Sorte NameDeutsch Hoehe  \\\n",
       "0       0      0     ZumTesten           0     0    20190205     0   \n",
       "1     870   021a       Quercus         sp.     -       Eiche     6   \n",
       "2     572    127  Liriodendron  tulipifera     -  Tulpenbaum     5   \n",
       "\n",
       "  Schirmdurchmesser Stammumfang Typ   XPos    YPos               lon  \\\n",
       "0                 0           0   0  70000  350000  14,2757549011314   \n",
       "1                 3          31   L  72431  354949  14,3093549528352   \n",
       "2                 2          21   L  71171  353742  14,2921648325343   \n",
       "\n",
       "                lat  \n",
       "0  48,2844031941042  \n",
       "1  48,3286271802142  \n",
       "2  48,3179178510249  "
      ]
     },
     "execution_count": 31,
     "metadata": {},
     "output_type": "execute_result"
    }
   ],
   "source": [
    "df.toPandas().head(3)"
   ]
  },
  {
   "cell_type": "markdown",
   "metadata": {},
   "source": [
    "Show number of different trees (count german names in `df` and sort by cont)"
   ]
  },
  {
   "cell_type": "code",
   "execution_count": 33,
   "metadata": {},
   "outputs": [
    {
     "name": "stdout",
     "output_type": "stream",
     "text": [
      "+--------------------+-----+\n",
      "|         NameDeutsch|count|\n",
      "+--------------------+-----+\n",
      "|        Winter-Linde| 1583|\n",
      "|          Weiß-Birke| 1442|\n",
      "|         Spitz-Ahorn| 1273|\n",
      "|         Stiel-Eiche| 1228|\n",
      "|               Ahorn| 1079|\n",
      "|           Hainbuche| 1036|\n",
      "|       Gemeine Esche|  987|\n",
      "|Ahornblättrige-Pl...|  961|\n",
      "|            Rotbuche|  747|\n",
      "|               Linde|  688|\n",
      "|          Feld-Ahorn|  637|\n",
      "|          Berg-Ahorn|  566|\n",
      "|    Säulen-Hainbuche|  507|\n",
      "|Gemeine Rosskastanie|  461|\n",
      "|          Tulpenbaum|  436|\n",
      "|             Robinie|  358|\n",
      "|        Silber-Weide|  353|\n",
      "|      Schwarz-Kiefer|  321|\n",
      "|           Baumhasel|  258|\n",
      "|    Serbische Fichte|  257|\n",
      "+--------------------+-----+\n",
      "only showing top 20 rows\n",
      "\n"
     ]
    }
   ],
   "source": [
    "df.groupBy(\"NameDeutsch\").count().orderBy('count', ascending=False).show()"
   ]
  },
  {
   "cell_type": "markdown",
   "metadata": {},
   "source": [
    "An example of SQL query (see [Running SQL Queries Programmatically](https://spark.apache.org/docs/latest/sql-getting-started.html#running-sql-queries-programmatically)): let's sort trees by height (\"Hoehe\")."
   ]
  },
  {
   "cell_type": "code",
   "execution_count": 34,
   "metadata": {},
   "outputs": [],
   "source": [
    "df.createOrReplaceTempView(\"baeume\")"
   ]
  },
  {
   "cell_type": "code",
   "execution_count": 36,
   "metadata": {},
   "outputs": [
    {
     "name": "stdout",
     "output_type": "stream",
     "text": [
      "+------+--------------------+-----+----------------+----------------+\n",
      "|BaumNr|         NameDeutsch|Hoehe|             lat|             lon|\n",
      "+------+--------------------+-----+----------------+----------------+\n",
      "|   844|            Weißdorn|   99|48,3198141692826|14,3032456456049|\n",
      "|   005|           Hainbuche|   99|48,3107341721266|14,2818381176027|\n",
      "|   129|          Weiß-Birke|   99|48,2764221420506|14,3029622419918|\n",
      "|   037|Gemeine Kiefer / ...|   95|48,3021818905511|14,2769106844535|\n",
      "|   007|          Tulpenbaum|   90|48,2765758955147|14,3027882173276|\n",
      "|   051|          Weiß-Birke|    9|48,2671468323820|14,2832242240464|\n",
      "|   001|    Säulen-Hainbuche|    9|48,2973425597313|14,3138560746343|\n",
      "|   009|        Sommer-Linde|    9|48,2383321988402|14,3668869798697|\n",
      "|   025|       Schwarz-Birke|    9|48,2749605071833|14,2781176169409|\n",
      "|   004|            Rotbuche|    9|48,2768058741599|14,2821412254345|\n",
      "|   011|             Robinie|    9|48,2382302739335|14,3347263036350|\n",
      "|   009|          Götterbaum|    9|48,2766683843868|14,2814265266950|\n",
      "|   014|          Götterbaum|    9|48,2764131088558|14,2809709854517|\n",
      "|   004|            Rotbuche|    9|48,2768218589229|14,2821505374108|\n",
      "|   002|        Winter-Linde|    9|48,2960178194628|14,2818038617467|\n",
      "|   001|        Silber-Ahorn|    9|48,2777290002478|14,2797511856080|\n",
      "|   036|               Ahorn|    9|48,2335935143941|14,3798873585795|\n",
      "|   047|        Sommer-Linde|    9|48,2346725447652|14,3758058184719|\n",
      "|   056|           Hainbuche|    9|48,2784551013593|14,3103718222569|\n",
      "|   022|          Weiß-Birke|    9|48,2781732375800|14,2972684731463|\n",
      "+------+--------------------+-----+----------------+----------------+\n",
      "only showing top 20 rows\n",
      "\n"
     ]
    }
   ],
   "source": [
    "spark.sql(\"SELECT BaumNr, NameDeutsch, Hoehe, lat, lon FROM baeume order  by Hoehe desc\").show()"
   ]
  },
  {
   "cell_type": "markdown",
   "metadata": {},
   "source": [
    "The height data doesn't seem to be up-to-date."
   ]
  }
 ],
 "metadata": {
  "kernelspec": {
   "display_name": "PySpark3 (Spark 2.3)",
   "language": "python",
   "name": "pyspark3kernel"
  },
  "language_info": {
   "codemirror_mode": {
    "name": "ipython",
    "version": 3
   },
   "file_extension": ".py",
   "mimetype": "text/x-python",
   "name": "python",
   "nbconvert_exporter": "python",
   "pygments_lexer": "ipython3",
   "version": "3.6.9"
  }
 },
 "nbformat": 4,
 "nbformat_minor": 2
}
